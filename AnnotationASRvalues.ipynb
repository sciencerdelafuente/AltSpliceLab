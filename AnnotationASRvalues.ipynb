{
 "cells": [
  {
   "cell_type": "code",
   "execution_count": 1,
   "id": "445b335a-d9ff-4f14-b7df-a33b98c01a41",
   "metadata": {},
   "outputs": [],
   "source": [
    "import pandas as pd\n",
    "import networkx as nx\n",
    "import csv\n",
    "from xml.dom import minidom\n",
    "import xml.etree.ElementTree as ET\n",
    "from xml.etree.ElementTree import tostring\n",
    "import numpy as np\n"
   ]
  },
  {
   "cell_type": "code",
   "execution_count": 2,
   "id": "946692f7-1b54-4d78-9b79-140b5954604c",
   "metadata": {},
   "outputs": [],
   "source": [
    "datan=pd.read_csv('datax_normalized.csv',header=0,sep=',',low_memory=False)\n",
    "refseq_eukaryotes = pd.read_csv('Refseq_Eukaryotes.csv',header=0,sep='\\t',low_memory=False)\n",
    "output = pd.read_csv('Output_Genome_Variables_Eukaryotes.txt',header=0,sep='\\t',low_memory=False)\n",
    "\n",
    "\n",
    "\n",
    "names=refseq_eukaryotes.columns.tolist()\n",
    "names[names.index('#assembly_accession')]='assembly_accession'\n",
    "refseq_eukaryotes.columns = names\n",
    "\n"
   ]
  },
  {
   "cell_type": "code",
   "execution_count": 4,
   "id": "f2c0350c-1356-464a-a300-e6f1365a0795",
   "metadata": {},
   "outputs": [
    {
     "name": "stderr",
     "output_type": "stream",
     "text": [
      "/tmp/ipykernel_48562/1692837861.py:27: FutureWarning: Setting an item of incompatible dtype is deprecated and will raise an error in a future version of pandas. Value '3.75559226610997' has dtype incompatible with int64, please explicitly cast to a compatible dtype first.\n",
      "  output.loc[j,\"ASR_predicted\"]=asr_can\n",
      "/tmp/ipykernel_48562/1692837861.py:28: FutureWarning: Setting an item of incompatible dtype is deprecated and will raise an error in a future version of pandas. Value '3.88256987127172' has dtype incompatible with int64, please explicitly cast to a compatible dtype first.\n",
      "  output.loc[j,\"ASR_normalized\"]=asrn\n",
      "/tmp/ipykernel_48562/1692837861.py:40: FutureWarning: Setting an item of incompatible dtype is deprecated and will raise an error in a future version of pandas. Value 'Mammals' has dtype incompatible with int64, please explicitly cast to a compatible dtype first.\n",
      "  output.loc[i,\"Taxonomy\"]=refseq_eukaryotes.Taxonomy[j]\n",
      "/tmp/ipykernel_48562/1692837861.py:41: FutureWarning: Setting an item of incompatible dtype is deprecated and will raise an error in a future version of pandas. Value 'Mus musculus' has dtype incompatible with int64, please explicitly cast to a compatible dtype first.\n",
      "  output.loc[i,\"Organism\"]=refseq_eukaryotes.organism_name[j]\n"
     ]
    }
   ],
   "source": [
    "list_asr_predicted = [-1] * len(output)\n",
    "list_asr_normalized = [-1] * len(output)\n",
    "list_taxonomy = [-1] * len(output)\n",
    "list_organism = [-1] * len(output)\n",
    "\n",
    "\n",
    "output[\"ASR_predicted\"]=list_asr_predicted\n",
    "output[\"ASR_normalized\"]=list_asr_normalized\n",
    "output[\"Taxonomy\"]=list_taxonomy\n",
    "output[\"Organism\"]=list_organism\n",
    "\n",
    "\n",
    "it=list(range(0,len(datan)))\n",
    "for i in it:\n",
    "    asr=datan.ASR[i]\n",
    "    asr_can=datan.ASR_predicho[i]\n",
    "    asrn=datan.ASR_normalizado_resta_min[i]\n",
    "\n",
    "\n",
    "    itj=list(range(0,len(output)))\n",
    "    for j in itj:\n",
    "        asrd=output.ASR[j]\n",
    "        x=round(asr,5)\n",
    "        y=round(asrd,5)\n",
    "        if(x==y):\n",
    "           #print(x)\n",
    "            output.loc[j,\"ASR_predicted\"]=asr_can\n",
    "            output.loc[j,\"ASR_normalized\"]=asrn\n",
    "\n",
    "        \n",
    "it=list(range(0,len(output)))\n",
    "for i in it:\n",
    "    name=output.FileName[i]\n",
    "\n",
    "    itj=list(range(0,len(refseq_eukaryotes)))\n",
    "    for j in itj:\n",
    "        namey=refseq_eukaryotes.assembly_accession[j]\n",
    "        result = namey.lower() in name.lower()\n",
    "        if(result==True):\n",
    "            output.loc[i,\"Taxonomy\"]=refseq_eukaryotes.Taxonomy[j]\n",
    "            output.loc[i,\"Organism\"]=refseq_eukaryotes.organism_name[j]\n",
    "\n",
    "\n",
    "\n",
    "output.drop(output[output['ASR_predicted']==-1].index,inplace=True)\n",
    "\n",
    "output.to_csv('Output_Genome_Variables_Eukaryotes_Normalized.csv',sep='\\t')"
   ]
  },
  {
   "cell_type": "code",
   "execution_count": null,
   "id": "9fa7b0d0-91cf-4fb5-927f-f010fa78d10d",
   "metadata": {},
   "outputs": [],
   "source": []
  },
  {
   "cell_type": "code",
   "execution_count": null,
   "id": "4524bb23-f4ce-4baa-9cc7-0386b6ce8caf",
   "metadata": {},
   "outputs": [],
   "source": []
  },
  {
   "cell_type": "code",
   "execution_count": null,
   "id": "886f886f-37c6-4789-9c6e-93dd3c5133dd",
   "metadata": {},
   "outputs": [],
   "source": []
  },
  {
   "cell_type": "code",
   "execution_count": null,
   "id": "4bf6f58e-ea5d-45c3-acc3-d9965bc86303",
   "metadata": {},
   "outputs": [],
   "source": []
  },
  {
   "cell_type": "code",
   "execution_count": null,
   "id": "a33f3e8e-6812-46cb-b324-b4511cdd9d52",
   "metadata": {},
   "outputs": [],
   "source": []
  },
  {
   "cell_type": "code",
   "execution_count": null,
   "id": "c01591d0-29f6-409e-8126-7519bdbfbcec",
   "metadata": {},
   "outputs": [],
   "source": []
  },
  {
   "cell_type": "code",
   "execution_count": null,
   "id": "7a919eb1-aac6-4bf9-89b4-2b42518ecca9",
   "metadata": {},
   "outputs": [],
   "source": []
  }
 ],
 "metadata": {
  "kernelspec": {
   "display_name": "Python 3 (ipykernel)",
   "language": "python",
   "name": "python3"
  },
  "language_info": {
   "codemirror_mode": {
    "name": "ipython",
    "version": 3
   },
   "file_extension": ".py",
   "mimetype": "text/x-python",
   "name": "python",
   "nbconvert_exporter": "python",
   "pygments_lexer": "ipython3",
   "version": "3.12.3"
  }
 },
 "nbformat": 4,
 "nbformat_minor": 5
}
